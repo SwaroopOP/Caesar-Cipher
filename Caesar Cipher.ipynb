{
 "cells": [
  {
   "cell_type": "markdown",
   "id": "b0bb20ac",
   "metadata": {},
   "source": [
    "# **Caesar cipher**"
   ]
  },
  {
   "cell_type": "markdown",
   "id": "a5f1dd35",
   "metadata": {},
   "source": [
    "*A cipher is a secret code for a language. We will explore a cipher that is reported by contemporary Greek historians to have been used by Julius Caesar to send secret messages to generals during times of war.*\n",
    "\n",
    "*The Caesar cipher shifts each letter of a message to another letter in the alphabet located a fixed distance from the original letter. If our encryption key were 1, we would shift h to the next letter i, i to the next letter j, and so on. If we reach the end of the alphabet, which for us is the space character, we simply loop back to a. To decode the message, we make a similar shift, except we move the same number of steps backwards in the alphabet.*\n",
    "\n",
    "*We will create our own Caesar cipher, as well as a message decoder for this cipher.*"
   ]
  },
  {
   "cell_type": "markdown",
   "id": "ad600bcc",
   "metadata": {},
   "source": [
    "The sample code imports the string library has been imported. Create a string called alphabet consisting of the space character (' ') followed by (concatenated with) the lowercase letters. Note that we're only using the lowercase letters here.\n",
    "\n",
    "We will define a dictionary that specifies the index of each character in alphabet.\n",
    "Note that alphabet is as defined. Create a dictionary with keys consisting of the characters in alphabet and values consisting of the numbers from 0 to 26. Store this as positions.\n",
    "\n",
    "Lets print the value of the key n in the positions dictionary"
   ]
  },
  {
   "cell_type": "code",
   "execution_count": 1,
   "id": "09e50459",
   "metadata": {},
   "outputs": [
    {
     "name": "stdout",
     "output_type": "stream",
     "text": [
      "14\n"
     ]
    }
   ],
   "source": [
    "import string\n",
    "alphabet = \" \" + string.ascii_lowercase\n",
    "positions = {}\n",
    "index = 0\n",
    "for char in alphabet:\n",
    "    positions[char] = index\n",
    "    index += 1\n",
    "    \n",
    "print(positions['n'])"
   ]
  },
  {
   "cell_type": "markdown",
   "id": "9da246d5",
   "metadata": {},
   "source": [
    "We will encode a message with a Caesar cipher.\n",
    "\n",
    "Note that alphabet and positions are as defined above. Use positions to create an encoded message based on message where each character in message has been shifted forward by 1 position, as defined by positions.\n",
    "Now lets try printing encoded_message."
   ]
  },
  {
   "cell_type": "code",
   "execution_count": 3,
   "id": "8f7a8fe5",
   "metadata": {},
   "outputs": [
    {
     "name": "stdout",
     "output_type": "stream",
     "text": [
      "ijanzaobnfajtadbftbs\n"
     ]
    }
   ],
   "source": [
    "message = \"hi my name is caesar\"\n",
    "encoding_list = []\n",
    "for char in message:\n",
    "    position = positions[char]\n",
    "    encoded_position = (position + 1) % 27\n",
    "    encoding_list.append(alphabet[encoded_position])\n",
    "encoded_message = \"\".join(encoding_list)\n",
    "\n",
    "print(encoded_message)"
   ]
  },
  {
   "cell_type": "markdown",
   "id": "1a0b7629",
   "metadata": {},
   "source": [
    "Define a function encoding that takes a message as input as well as an int encryption key key to encode a message with the Caesar cipher by shifting each letter in message by key positions.\n",
    "\n",
    "Our function should return a string consisting of these encoded letters.\n",
    "Use encoding to encode message using key = 3 and save the result as encoded_message. Print encoded_message."
   ]
  },
  {
   "cell_type": "code",
   "execution_count": 4,
   "id": "71c17172",
   "metadata": {},
   "outputs": [
    {
     "name": "stdout",
     "output_type": "stream",
     "text": [
      "klcpacqdphclvcfdhvdu\n"
     ]
    }
   ],
   "source": [
    "def encoding(message, key = 0):\n",
    "    encoding_list = []\n",
    "    for char in message:\n",
    "        position = positions[char]\n",
    "        encoded_position = (position + key) % 27\n",
    "        encoding_list.append(alphabet[encoded_position])\n",
    "    encoded_string = \"\".join(encoding_list)\n",
    "    return encoded_string\n",
    "    \n",
    "encoded_message = encoding(message, 3)\n",
    "print(encoded_message)"
   ]
  },
  {
   "cell_type": "markdown",
   "id": "68f1b05c",
   "metadata": {},
   "source": [
    "We will decode an encoded message.\n",
    "\n",
    "* Use encoding to decode encoded_message.\n",
    "* Store your encoded message as decoded_message.\n",
    "* Print decoded_message."
   ]
  },
  {
   "cell_type": "code",
   "execution_count": 6,
   "id": "b54b2262",
   "metadata": {},
   "outputs": [
    {
     "name": "stdout",
     "output_type": "stream",
     "text": [
      "hi my name is caesar\n"
     ]
    }
   ],
   "source": [
    "decoded_message = encoding(encoded_message, -3)\n",
    "print(decoded_message)"
   ]
  },
  {
   "cell_type": "code",
   "execution_count": null,
   "id": "8997debd",
   "metadata": {},
   "outputs": [],
   "source": []
  }
 ],
 "metadata": {
  "kernelspec": {
   "display_name": "Python 3",
   "language": "python",
   "name": "python3"
  },
  "language_info": {
   "codemirror_mode": {
    "name": "ipython",
    "version": 3
   },
   "file_extension": ".py",
   "mimetype": "text/x-python",
   "name": "python",
   "nbconvert_exporter": "python",
   "pygments_lexer": "ipython3",
   "version": "3.8.10"
  }
 },
 "nbformat": 4,
 "nbformat_minor": 5
}
